{
 "cells": [
  {
   "cell_type": "markdown",
   "id": "c477daa1",
   "metadata": {},
   "source": [
    "### Simple notebook to convert Ina XML files to running text.\n",
    "This is the base for the creation of the GT."
   ]
  },
  {
   "cell_type": "code",
   "execution_count": 1,
   "id": "410d2e39",
   "metadata": {},
   "outputs": [],
   "source": [
    "from bs4 import BeautifulSoup\n",
    "import glob"
   ]
  },
  {
   "cell_type": "code",
   "execution_count": 2,
   "id": "6345970d",
   "metadata": {},
   "outputs": [],
   "source": [
    "#ina_path = \"/Users/ehrmann/Work/work-projects/impresso/code/gpt-text-correction/data/datasets/asr/original/ina-samples/\""
   ]
  },
  {
   "cell_type": "code",
   "execution_count": 11,
   "id": "d99a33ad",
   "metadata": {},
   "outputs": [],
   "source": [
    "ina_path = \"../data/datasets/asr/original/ina-samples/\""
   ]
  },
  {
   "cell_type": "code",
   "execution_count": 33,
   "id": "fe6d31b6",
   "metadata": {},
   "outputs": [],
   "source": [
    "def xml2txt(input_file: str,\n",
    "           output_file: str) -> None:\n",
    "\n",
    "    with open(input_file, 'r') as f:\n",
    "        asr_xml = f.read()\n",
    "\n",
    "    asr_soup = BeautifulSoup(asr_xml, 'xml')\n",
    "    segments = []\n",
    "    \n",
    "    for i, seg in enumerate(asr_soup.find_all(\"SpeechSegment\")):\n",
    "        text_seg = seg.get_text(\" \", strip=True)\n",
    "        line = text_seg if i > 0 else \" \" + text_seg\n",
    "        if line != \"\":\n",
    "            segments.append(line)\n",
    "    \n",
    "    with open(output_file, \"w\", encoding=\"utf-8\") as f:\n",
    "        f.write('\\n'.join(segments))\n"
   ]
  },
  {
   "cell_type": "code",
   "execution_count": 34,
   "id": "f4638375",
   "metadata": {},
   "outputs": [],
   "source": [
    "files = [path for path in glob.glob(ina_path+'*.XML')]"
   ]
  },
  {
   "cell_type": "code",
   "execution_count": 35,
   "id": "b90082b4",
   "metadata": {},
   "outputs": [
    {
     "name": "stdout",
     "output_type": "stream",
     "text": [
      "../data/datasets/asr/original/ina-samples/impresso2-SingleURL-PHD85027162.txt\n",
      "../data/datasets/asr/original/ina-samples/impresso2-SingleURL-PHD90010642.txt\n",
      "../data/datasets/asr/original/ina-samples/impresso2-SingleURL-PHY05027894.txt\n",
      "../data/datasets/asr/original/ina-samples/impresso2-SingleURL-PHD88003669.txt\n",
      "../data/datasets/asr/original/ina-samples/impresso2-SingleURL-PHF12019751.txt\n",
      "../data/datasets/asr/original/ina-samples/impresso2-SingleURL-PTF12000134.txt\n"
     ]
    }
   ],
   "source": [
    "for f in files:\n",
    "    out_f = f.replace(\"XML\", \"txt\")\n",
    "    print(out_f)\n",
    "    xml2txt(f, out_f)"
   ]
  },
  {
   "cell_type": "code",
   "execution_count": null,
   "id": "c5f3e83f",
   "metadata": {},
   "outputs": [],
   "source": []
  }
 ],
 "metadata": {
  "kernelspec": {
   "display_name": "Python 3 (ipykernel)",
   "language": "python",
   "name": "python3"
  },
  "language_info": {
   "codemirror_mode": {
    "name": "ipython",
    "version": 3
   },
   "file_extension": ".py",
   "mimetype": "text/x-python",
   "name": "python",
   "nbconvert_exporter": "python",
   "pygments_lexer": "ipython3",
   "version": "3.9.6"
  }
 },
 "nbformat": 4,
 "nbformat_minor": 5
}
